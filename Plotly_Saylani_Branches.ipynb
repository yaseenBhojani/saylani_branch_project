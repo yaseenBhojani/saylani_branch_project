{
 "cells": [
  {
   "cell_type": "code",
   "execution_count": 38,
   "id": "b5250a63",
   "metadata": {},
   "outputs": [
    {
     "data": {
      "application/vnd.plotly.v1+json": {
       "config": {
        "plotlyServerURL": "https://plot.ly"
       },
       "data": [
        {
         "lat": [
          24.903623058485977
         ],
         "lon": [
          67.02632566874261
         ],
         "marker": {
          "color": "rgb(0, 119, 255)",
          "size": 12,
          "symbol": "circle"
         },
         "mode": "markers",
         "name": "Saylani Welfare Nazimabad Branch",
         "text": "Saylani Welfare Nazimabad Branch",
         "type": "scattermapbox"
        },
        {
         "lat": [
          24.90827450285663
         ],
         "lon": [
          66.98764504416266
         ],
         "marker": {
          "color": "rgb(255, 0, 0)",
          "size": 12,
          "symbol": "circle"
         },
         "mode": "markers",
         "name": "Saylani Welfare Ghani Chorangi Branch",
         "text": "Saylani Welfare Ghani Chorangi Branch",
         "type": "scattermapbox"
        },
        {
         "lat": [
          24.88649488667148
         ],
         "lon": [
          67.02186247279369
         ],
         "marker": {
          "color": "rgb(0, 255, 0)",
          "size": 12,
          "symbol": "circle"
         },
         "mode": "markers",
         "name": "Saylani Welfare Garden Branch",
         "text": "Saylani Welfare Garden Branch",
         "type": "scattermapbox"
        },
        {
         "lat": [
          24.906737016214315
         ],
         "lon": [
          67.06237455909937
         ],
         "marker": {
          "color": "rgb(255, 165, 0)",
          "size": 12,
          "symbol": "circle"
         },
         "mode": "markers",
         "name": "Saylani Welfare Trust old sabzi mandi",
         "text": "Saylani Welfare Trust old sabzi mandi",
         "type": "scattermapbox"
        },
        {
         "lat": [
          24.914832938532072
         ],
         "lon": [
          67.12588927068029
         ],
         "marker": {
          "color": "rgb(128, 0, 128)",
          "size": 12,
          "symbol": "circle"
         },
         "mode": "markers",
         "name": "Saylani Jauhar Branch",
         "text": "Saylani Jauhar Branch",
         "type": "scattermapbox"
        },
        {
         "lat": [
          24.88805209138544
         ],
         "lon": [
          67.0692410144054
         ],
         "marker": {
          "color": "rgb(255, 255, 0)",
          "size": 12,
          "symbol": "circle"
         },
         "mode": "markers",
         "name": "Saylani Welfare Head Office.",
         "text": "Saylani Welfare Head Office.",
         "type": "scattermapbox"
        },
        {
         "lat": [
          24.942853181319283
         ],
         "lon": [
          67.10014006328261
         ],
         "marker": {
          "color": "rgb(0, 255, 255)",
          "size": 12,
          "symbol": "circle"
         },
         "mode": "markers",
         "name": "Saylani Welfare Gulshan Iqbal Branch",
         "text": "Saylani Welfare Gulshan Iqbal Branch",
         "type": "scattermapbox"
        },
        {
         "lat": [
          24.841327413079387
         ],
         "lon": [
          67.03490873787517
         ],
         "marker": {
          "color": "rgb(255, 0, 255)",
          "size": 12,
          "symbol": "circle"
         },
         "mode": "markers",
         "name": "Saylani Welfare Clifton Branch",
         "text": "Saylani Welfare Clifton Branch",
         "type": "scattermapbox"
        },
        {
         "lat": [
          24.997007578889647
         ],
         "lon": [
          67.06477781859323
         ],
         "marker": {
          "color": "rgb(128, 128, 128)",
          "size": 12,
          "symbol": "circle"
         },
         "mode": "markers",
         "name": "Saylani Welfare North Karachi Branch",
         "text": "Saylani Welfare North Karachi Branch",
         "type": "scattermapbox"
        },
        {
         "lat": [
          24.935381739822827
         ],
         "lon": [
          67.09945341788877
         ],
         "marker": {
          "color": "rgb(0, 0, 0)",
          "size": 12,
          "symbol": "circle"
         },
         "mode": "markers",
         "name": "Saylani Welfare FB Area Branch",
         "text": "Saylani Welfare FB Area Branch",
         "type": "scattermapbox"
        }
       ],
       "layout": {
        "autosize": true,
        "hovermode": "closest",
        "legend": {
         "bgcolor": "rgba(255, 255, 255, 0.7)",
         "x": 0,
         "y": 1
        },
        "mapbox": {
         "center": {
          "lat": 24.912458440725707,
          "lon": 67.05926180675237
         },
         "style": "carto-positron",
         "zoom": 9.999158364639783
        },
        "margin": {
         "b": 0,
         "l": 0,
         "r": 0,
         "t": 40
        },
        "showlegend": true,
        "template": {
         "data": {
          "bar": [
           {
            "error_x": {
             "color": "#2a3f5f"
            },
            "error_y": {
             "color": "#2a3f5f"
            },
            "marker": {
             "line": {
              "color": "#E5ECF6",
              "width": 0.5
             },
             "pattern": {
              "fillmode": "overlay",
              "size": 10,
              "solidity": 0.2
             }
            },
            "type": "bar"
           }
          ],
          "barpolar": [
           {
            "marker": {
             "line": {
              "color": "#E5ECF6",
              "width": 0.5
             },
             "pattern": {
              "fillmode": "overlay",
              "size": 10,
              "solidity": 0.2
             }
            },
            "type": "barpolar"
           }
          ],
          "carpet": [
           {
            "aaxis": {
             "endlinecolor": "#2a3f5f",
             "gridcolor": "white",
             "linecolor": "white",
             "minorgridcolor": "white",
             "startlinecolor": "#2a3f5f"
            },
            "baxis": {
             "endlinecolor": "#2a3f5f",
             "gridcolor": "white",
             "linecolor": "white",
             "minorgridcolor": "white",
             "startlinecolor": "#2a3f5f"
            },
            "type": "carpet"
           }
          ],
          "choropleth": [
           {
            "colorbar": {
             "outlinewidth": 0,
             "ticks": ""
            },
            "type": "choropleth"
           }
          ],
          "contour": [
           {
            "colorbar": {
             "outlinewidth": 0,
             "ticks": ""
            },
            "colorscale": [
             [
              0,
              "#0d0887"
             ],
             [
              0.1111111111111111,
              "#46039f"
             ],
             [
              0.2222222222222222,
              "#7201a8"
             ],
             [
              0.3333333333333333,
              "#9c179e"
             ],
             [
              0.4444444444444444,
              "#bd3786"
             ],
             [
              0.5555555555555556,
              "#d8576b"
             ],
             [
              0.6666666666666666,
              "#ed7953"
             ],
             [
              0.7777777777777778,
              "#fb9f3a"
             ],
             [
              0.8888888888888888,
              "#fdca26"
             ],
             [
              1,
              "#f0f921"
             ]
            ],
            "type": "contour"
           }
          ],
          "contourcarpet": [
           {
            "colorbar": {
             "outlinewidth": 0,
             "ticks": ""
            },
            "type": "contourcarpet"
           }
          ],
          "heatmap": [
           {
            "colorbar": {
             "outlinewidth": 0,
             "ticks": ""
            },
            "colorscale": [
             [
              0,
              "#0d0887"
             ],
             [
              0.1111111111111111,
              "#46039f"
             ],
             [
              0.2222222222222222,
              "#7201a8"
             ],
             [
              0.3333333333333333,
              "#9c179e"
             ],
             [
              0.4444444444444444,
              "#bd3786"
             ],
             [
              0.5555555555555556,
              "#d8576b"
             ],
             [
              0.6666666666666666,
              "#ed7953"
             ],
             [
              0.7777777777777778,
              "#fb9f3a"
             ],
             [
              0.8888888888888888,
              "#fdca26"
             ],
             [
              1,
              "#f0f921"
             ]
            ],
            "type": "heatmap"
           }
          ],
          "heatmapgl": [
           {
            "colorbar": {
             "outlinewidth": 0,
             "ticks": ""
            },
            "colorscale": [
             [
              0,
              "#0d0887"
             ],
             [
              0.1111111111111111,
              "#46039f"
             ],
             [
              0.2222222222222222,
              "#7201a8"
             ],
             [
              0.3333333333333333,
              "#9c179e"
             ],
             [
              0.4444444444444444,
              "#bd3786"
             ],
             [
              0.5555555555555556,
              "#d8576b"
             ],
             [
              0.6666666666666666,
              "#ed7953"
             ],
             [
              0.7777777777777778,
              "#fb9f3a"
             ],
             [
              0.8888888888888888,
              "#fdca26"
             ],
             [
              1,
              "#f0f921"
             ]
            ],
            "type": "heatmapgl"
           }
          ],
          "histogram": [
           {
            "marker": {
             "pattern": {
              "fillmode": "overlay",
              "size": 10,
              "solidity": 0.2
             }
            },
            "type": "histogram"
           }
          ],
          "histogram2d": [
           {
            "colorbar": {
             "outlinewidth": 0,
             "ticks": ""
            },
            "colorscale": [
             [
              0,
              "#0d0887"
             ],
             [
              0.1111111111111111,
              "#46039f"
             ],
             [
              0.2222222222222222,
              "#7201a8"
             ],
             [
              0.3333333333333333,
              "#9c179e"
             ],
             [
              0.4444444444444444,
              "#bd3786"
             ],
             [
              0.5555555555555556,
              "#d8576b"
             ],
             [
              0.6666666666666666,
              "#ed7953"
             ],
             [
              0.7777777777777778,
              "#fb9f3a"
             ],
             [
              0.8888888888888888,
              "#fdca26"
             ],
             [
              1,
              "#f0f921"
             ]
            ],
            "type": "histogram2d"
           }
          ],
          "histogram2dcontour": [
           {
            "colorbar": {
             "outlinewidth": 0,
             "ticks": ""
            },
            "colorscale": [
             [
              0,
              "#0d0887"
             ],
             [
              0.1111111111111111,
              "#46039f"
             ],
             [
              0.2222222222222222,
              "#7201a8"
             ],
             [
              0.3333333333333333,
              "#9c179e"
             ],
             [
              0.4444444444444444,
              "#bd3786"
             ],
             [
              0.5555555555555556,
              "#d8576b"
             ],
             [
              0.6666666666666666,
              "#ed7953"
             ],
             [
              0.7777777777777778,
              "#fb9f3a"
             ],
             [
              0.8888888888888888,
              "#fdca26"
             ],
             [
              1,
              "#f0f921"
             ]
            ],
            "type": "histogram2dcontour"
           }
          ],
          "mesh3d": [
           {
            "colorbar": {
             "outlinewidth": 0,
             "ticks": ""
            },
            "type": "mesh3d"
           }
          ],
          "parcoords": [
           {
            "line": {
             "colorbar": {
              "outlinewidth": 0,
              "ticks": ""
             }
            },
            "type": "parcoords"
           }
          ],
          "pie": [
           {
            "automargin": true,
            "type": "pie"
           }
          ],
          "scatter": [
           {
            "fillpattern": {
             "fillmode": "overlay",
             "size": 10,
             "solidity": 0.2
            },
            "type": "scatter"
           }
          ],
          "scatter3d": [
           {
            "line": {
             "colorbar": {
              "outlinewidth": 0,
              "ticks": ""
             }
            },
            "marker": {
             "colorbar": {
              "outlinewidth": 0,
              "ticks": ""
             }
            },
            "type": "scatter3d"
           }
          ],
          "scattercarpet": [
           {
            "marker": {
             "colorbar": {
              "outlinewidth": 0,
              "ticks": ""
             }
            },
            "type": "scattercarpet"
           }
          ],
          "scattergeo": [
           {
            "marker": {
             "colorbar": {
              "outlinewidth": 0,
              "ticks": ""
             }
            },
            "type": "scattergeo"
           }
          ],
          "scattergl": [
           {
            "marker": {
             "colorbar": {
              "outlinewidth": 0,
              "ticks": ""
             }
            },
            "type": "scattergl"
           }
          ],
          "scattermapbox": [
           {
            "marker": {
             "colorbar": {
              "outlinewidth": 0,
              "ticks": ""
             }
            },
            "type": "scattermapbox"
           }
          ],
          "scatterpolar": [
           {
            "marker": {
             "colorbar": {
              "outlinewidth": 0,
              "ticks": ""
             }
            },
            "type": "scatterpolar"
           }
          ],
          "scatterpolargl": [
           {
            "marker": {
             "colorbar": {
              "outlinewidth": 0,
              "ticks": ""
             }
            },
            "type": "scatterpolargl"
           }
          ],
          "scatterternary": [
           {
            "marker": {
             "colorbar": {
              "outlinewidth": 0,
              "ticks": ""
             }
            },
            "type": "scatterternary"
           }
          ],
          "surface": [
           {
            "colorbar": {
             "outlinewidth": 0,
             "ticks": ""
            },
            "colorscale": [
             [
              0,
              "#0d0887"
             ],
             [
              0.1111111111111111,
              "#46039f"
             ],
             [
              0.2222222222222222,
              "#7201a8"
             ],
             [
              0.3333333333333333,
              "#9c179e"
             ],
             [
              0.4444444444444444,
              "#bd3786"
             ],
             [
              0.5555555555555556,
              "#d8576b"
             ],
             [
              0.6666666666666666,
              "#ed7953"
             ],
             [
              0.7777777777777778,
              "#fb9f3a"
             ],
             [
              0.8888888888888888,
              "#fdca26"
             ],
             [
              1,
              "#f0f921"
             ]
            ],
            "type": "surface"
           }
          ],
          "table": [
           {
            "cells": {
             "fill": {
              "color": "#EBF0F8"
             },
             "line": {
              "color": "white"
             }
            },
            "header": {
             "fill": {
              "color": "#C8D4E3"
             },
             "line": {
              "color": "white"
             }
            },
            "type": "table"
           }
          ]
         },
         "layout": {
          "annotationdefaults": {
           "arrowcolor": "#2a3f5f",
           "arrowhead": 0,
           "arrowwidth": 1
          },
          "autotypenumbers": "strict",
          "coloraxis": {
           "colorbar": {
            "outlinewidth": 0,
            "ticks": ""
           }
          },
          "colorscale": {
           "diverging": [
            [
             0,
             "#8e0152"
            ],
            [
             0.1,
             "#c51b7d"
            ],
            [
             0.2,
             "#de77ae"
            ],
            [
             0.3,
             "#f1b6da"
            ],
            [
             0.4,
             "#fde0ef"
            ],
            [
             0.5,
             "#f7f7f7"
            ],
            [
             0.6,
             "#e6f5d0"
            ],
            [
             0.7,
             "#b8e186"
            ],
            [
             0.8,
             "#7fbc41"
            ],
            [
             0.9,
             "#4d9221"
            ],
            [
             1,
             "#276419"
            ]
           ],
           "sequential": [
            [
             0,
             "#0d0887"
            ],
            [
             0.1111111111111111,
             "#46039f"
            ],
            [
             0.2222222222222222,
             "#7201a8"
            ],
            [
             0.3333333333333333,
             "#9c179e"
            ],
            [
             0.4444444444444444,
             "#bd3786"
            ],
            [
             0.5555555555555556,
             "#d8576b"
            ],
            [
             0.6666666666666666,
             "#ed7953"
            ],
            [
             0.7777777777777778,
             "#fb9f3a"
            ],
            [
             0.8888888888888888,
             "#fdca26"
            ],
            [
             1,
             "#f0f921"
            ]
           ],
           "sequentialminus": [
            [
             0,
             "#0d0887"
            ],
            [
             0.1111111111111111,
             "#46039f"
            ],
            [
             0.2222222222222222,
             "#7201a8"
            ],
            [
             0.3333333333333333,
             "#9c179e"
            ],
            [
             0.4444444444444444,
             "#bd3786"
            ],
            [
             0.5555555555555556,
             "#d8576b"
            ],
            [
             0.6666666666666666,
             "#ed7953"
            ],
            [
             0.7777777777777778,
             "#fb9f3a"
            ],
            [
             0.8888888888888888,
             "#fdca26"
            ],
            [
             1,
             "#f0f921"
            ]
           ]
          },
          "colorway": [
           "#636efa",
           "#EF553B",
           "#00cc96",
           "#ab63fa",
           "#FFA15A",
           "#19d3f3",
           "#FF6692",
           "#B6E880",
           "#FF97FF",
           "#FECB52"
          ],
          "font": {
           "color": "#2a3f5f"
          },
          "geo": {
           "bgcolor": "white",
           "lakecolor": "white",
           "landcolor": "#E5ECF6",
           "showlakes": true,
           "showland": true,
           "subunitcolor": "white"
          },
          "hoverlabel": {
           "align": "left"
          },
          "hovermode": "closest",
          "mapbox": {
           "style": "light"
          },
          "paper_bgcolor": "white",
          "plot_bgcolor": "#E5ECF6",
          "polar": {
           "angularaxis": {
            "gridcolor": "white",
            "linecolor": "white",
            "ticks": ""
           },
           "bgcolor": "#E5ECF6",
           "radialaxis": {
            "gridcolor": "white",
            "linecolor": "white",
            "ticks": ""
           }
          },
          "scene": {
           "xaxis": {
            "backgroundcolor": "#E5ECF6",
            "gridcolor": "white",
            "gridwidth": 2,
            "linecolor": "white",
            "showbackground": true,
            "ticks": "",
            "zerolinecolor": "white"
           },
           "yaxis": {
            "backgroundcolor": "#E5ECF6",
            "gridcolor": "white",
            "gridwidth": 2,
            "linecolor": "white",
            "showbackground": true,
            "ticks": "",
            "zerolinecolor": "white"
           },
           "zaxis": {
            "backgroundcolor": "#E5ECF6",
            "gridcolor": "white",
            "gridwidth": 2,
            "linecolor": "white",
            "showbackground": true,
            "ticks": "",
            "zerolinecolor": "white"
           }
          },
          "shapedefaults": {
           "line": {
            "color": "#2a3f5f"
           }
          },
          "ternary": {
           "aaxis": {
            "gridcolor": "white",
            "linecolor": "white",
            "ticks": ""
           },
           "baxis": {
            "gridcolor": "white",
            "linecolor": "white",
            "ticks": ""
           },
           "bgcolor": "#E5ECF6",
           "caxis": {
            "gridcolor": "white",
            "linecolor": "white",
            "ticks": ""
           }
          },
          "title": {
           "x": 0.05
          },
          "xaxis": {
           "automargin": true,
           "gridcolor": "white",
           "linecolor": "white",
           "ticks": "",
           "title": {
            "standoff": 15
           },
           "zerolinecolor": "white",
           "zerolinewidth": 2
          },
          "yaxis": {
           "automargin": true,
           "gridcolor": "white",
           "linecolor": "white",
           "ticks": "",
           "title": {
            "standoff": 15
           },
           "zerolinecolor": "white",
           "zerolinewidth": 2
          }
         }
        },
        "title": {
         "font": {
          "color": "rgb(0, 119, 255)",
          "size": 24
         },
         "text": "<b>Saylani Branches</b>",
         "x": 0.5,
         "xanchor": "center",
         "xref": "paper",
         "y": 0.98,
         "yanchor": "top",
         "yref": "paper"
        }
       }
      },
      "text/html": [
       "<div>                            <div id=\"a335aca1-c1ff-4beb-a08e-e771f3cd30cf\" class=\"plotly-graph-div\" style=\"height:525px; width:100%;\"></div>            <script type=\"text/javascript\">                require([\"plotly\"], function(Plotly) {                    window.PLOTLYENV=window.PLOTLYENV || {};                                    if (document.getElementById(\"a335aca1-c1ff-4beb-a08e-e771f3cd30cf\")) {                    Plotly.newPlot(                        \"a335aca1-c1ff-4beb-a08e-e771f3cd30cf\",                        [{\"lat\":[24.903623058485977],\"lon\":[67.02632566874261],\"marker\":{\"color\":\"rgb(0, 119, 255)\",\"size\":12,\"symbol\":\"circle\"},\"mode\":\"markers\",\"name\":\"Saylani Welfare Nazimabad Branch\",\"text\":\"Saylani Welfare Nazimabad Branch\",\"type\":\"scattermapbox\"},{\"lat\":[24.90827450285663],\"lon\":[66.98764504416266],\"marker\":{\"color\":\"rgb(255, 0, 0)\",\"size\":12,\"symbol\":\"circle\"},\"mode\":\"markers\",\"name\":\"Saylani Welfare Ghani Chorangi Branch\",\"text\":\"Saylani Welfare Ghani Chorangi Branch\",\"type\":\"scattermapbox\"},{\"lat\":[24.88649488667148],\"lon\":[67.02186247279369],\"marker\":{\"color\":\"rgb(0, 255, 0)\",\"size\":12,\"symbol\":\"circle\"},\"mode\":\"markers\",\"name\":\"Saylani Welfare Garden Branch\",\"text\":\"Saylani Welfare Garden Branch\",\"type\":\"scattermapbox\"},{\"lat\":[24.906737016214315],\"lon\":[67.06237455909937],\"marker\":{\"color\":\"rgb(255, 165, 0)\",\"size\":12,\"symbol\":\"circle\"},\"mode\":\"markers\",\"name\":\"Saylani Welfare Trust old sabzi mandi\",\"text\":\"Saylani Welfare Trust old sabzi mandi\",\"type\":\"scattermapbox\"},{\"lat\":[24.914832938532072],\"lon\":[67.12588927068029],\"marker\":{\"color\":\"rgb(128, 0, 128)\",\"size\":12,\"symbol\":\"circle\"},\"mode\":\"markers\",\"name\":\"Saylani Jauhar Branch\",\"text\":\"Saylani Jauhar Branch\",\"type\":\"scattermapbox\"},{\"lat\":[24.88805209138544],\"lon\":[67.0692410144054],\"marker\":{\"color\":\"rgb(255, 255, 0)\",\"size\":12,\"symbol\":\"circle\"},\"mode\":\"markers\",\"name\":\"Saylani Welfare Head Office.\",\"text\":\"Saylani Welfare Head Office.\",\"type\":\"scattermapbox\"},{\"lat\":[24.942853181319283],\"lon\":[67.10014006328261],\"marker\":{\"color\":\"rgb(0, 255, 255)\",\"size\":12,\"symbol\":\"circle\"},\"mode\":\"markers\",\"name\":\"Saylani Welfare Gulshan Iqbal Branch\",\"text\":\"Saylani Welfare Gulshan Iqbal Branch\",\"type\":\"scattermapbox\"},{\"lat\":[24.841327413079387],\"lon\":[67.03490873787517],\"marker\":{\"color\":\"rgb(255, 0, 255)\",\"size\":12,\"symbol\":\"circle\"},\"mode\":\"markers\",\"name\":\"Saylani Welfare Clifton Branch\",\"text\":\"Saylani Welfare Clifton Branch\",\"type\":\"scattermapbox\"},{\"lat\":[24.997007578889647],\"lon\":[67.06477781859323],\"marker\":{\"color\":\"rgb(128, 128, 128)\",\"size\":12,\"symbol\":\"circle\"},\"mode\":\"markers\",\"name\":\"Saylani Welfare North Karachi Branch\",\"text\":\"Saylani Welfare North Karachi Branch\",\"type\":\"scattermapbox\"},{\"lat\":[24.935381739822827],\"lon\":[67.09945341788877],\"marker\":{\"color\":\"rgb(0, 0, 0)\",\"size\":12,\"symbol\":\"circle\"},\"mode\":\"markers\",\"name\":\"Saylani Welfare FB Area Branch\",\"text\":\"Saylani Welfare FB Area Branch\",\"type\":\"scattermapbox\"}],                        {\"autosize\":true,\"hovermode\":\"closest\",\"legend\":{\"bgcolor\":\"rgba(255, 255, 255, 0.7)\",\"x\":0,\"y\":1},\"mapbox\":{\"center\":{\"lat\":24.912458440725707,\"lon\":67.05926180675237},\"style\":\"carto-positron\",\"zoom\":9.999158364639783},\"margin\":{\"b\":0,\"l\":0,\"r\":0,\"t\":40},\"showlegend\":true,\"title\":{\"text\":\"\\u003cb\\u003eSaylani Branches\\u003c\\u002fb\\u003e\",\"font\":{\"size\":24,\"color\":\"rgb(0, 119, 255)\"},\"x\":0.5,\"y\":0.98,\"xref\":\"paper\",\"yref\":\"paper\",\"xanchor\":\"center\",\"yanchor\":\"top\"},\"template\":{\"data\":{\"histogram2dcontour\":[{\"type\":\"histogram2dcontour\",\"colorbar\":{\"outlinewidth\":0,\"ticks\":\"\"},\"colorscale\":[[0.0,\"#0d0887\"],[0.1111111111111111,\"#46039f\"],[0.2222222222222222,\"#7201a8\"],[0.3333333333333333,\"#9c179e\"],[0.4444444444444444,\"#bd3786\"],[0.5555555555555556,\"#d8576b\"],[0.6666666666666666,\"#ed7953\"],[0.7777777777777778,\"#fb9f3a\"],[0.8888888888888888,\"#fdca26\"],[1.0,\"#f0f921\"]]}],\"choropleth\":[{\"type\":\"choropleth\",\"colorbar\":{\"outlinewidth\":0,\"ticks\":\"\"}}],\"histogram2d\":[{\"type\":\"histogram2d\",\"colorbar\":{\"outlinewidth\":0,\"ticks\":\"\"},\"colorscale\":[[0.0,\"#0d0887\"],[0.1111111111111111,\"#46039f\"],[0.2222222222222222,\"#7201a8\"],[0.3333333333333333,\"#9c179e\"],[0.4444444444444444,\"#bd3786\"],[0.5555555555555556,\"#d8576b\"],[0.6666666666666666,\"#ed7953\"],[0.7777777777777778,\"#fb9f3a\"],[0.8888888888888888,\"#fdca26\"],[1.0,\"#f0f921\"]]}],\"heatmap\":[{\"type\":\"heatmap\",\"colorbar\":{\"outlinewidth\":0,\"ticks\":\"\"},\"colorscale\":[[0.0,\"#0d0887\"],[0.1111111111111111,\"#46039f\"],[0.2222222222222222,\"#7201a8\"],[0.3333333333333333,\"#9c179e\"],[0.4444444444444444,\"#bd3786\"],[0.5555555555555556,\"#d8576b\"],[0.6666666666666666,\"#ed7953\"],[0.7777777777777778,\"#fb9f3a\"],[0.8888888888888888,\"#fdca26\"],[1.0,\"#f0f921\"]]}],\"heatmapgl\":[{\"type\":\"heatmapgl\",\"colorbar\":{\"outlinewidth\":0,\"ticks\":\"\"},\"colorscale\":[[0.0,\"#0d0887\"],[0.1111111111111111,\"#46039f\"],[0.2222222222222222,\"#7201a8\"],[0.3333333333333333,\"#9c179e\"],[0.4444444444444444,\"#bd3786\"],[0.5555555555555556,\"#d8576b\"],[0.6666666666666666,\"#ed7953\"],[0.7777777777777778,\"#fb9f3a\"],[0.8888888888888888,\"#fdca26\"],[1.0,\"#f0f921\"]]}],\"contourcarpet\":[{\"type\":\"contourcarpet\",\"colorbar\":{\"outlinewidth\":0,\"ticks\":\"\"}}],\"contour\":[{\"type\":\"contour\",\"colorbar\":{\"outlinewidth\":0,\"ticks\":\"\"},\"colorscale\":[[0.0,\"#0d0887\"],[0.1111111111111111,\"#46039f\"],[0.2222222222222222,\"#7201a8\"],[0.3333333333333333,\"#9c179e\"],[0.4444444444444444,\"#bd3786\"],[0.5555555555555556,\"#d8576b\"],[0.6666666666666666,\"#ed7953\"],[0.7777777777777778,\"#fb9f3a\"],[0.8888888888888888,\"#fdca26\"],[1.0,\"#f0f921\"]]}],\"surface\":[{\"type\":\"surface\",\"colorbar\":{\"outlinewidth\":0,\"ticks\":\"\"},\"colorscale\":[[0.0,\"#0d0887\"],[0.1111111111111111,\"#46039f\"],[0.2222222222222222,\"#7201a8\"],[0.3333333333333333,\"#9c179e\"],[0.4444444444444444,\"#bd3786\"],[0.5555555555555556,\"#d8576b\"],[0.6666666666666666,\"#ed7953\"],[0.7777777777777778,\"#fb9f3a\"],[0.8888888888888888,\"#fdca26\"],[1.0,\"#f0f921\"]]}],\"mesh3d\":[{\"type\":\"mesh3d\",\"colorbar\":{\"outlinewidth\":0,\"ticks\":\"\"}}],\"scatter\":[{\"fillpattern\":{\"fillmode\":\"overlay\",\"size\":10,\"solidity\":0.2},\"type\":\"scatter\"}],\"parcoords\":[{\"type\":\"parcoords\",\"line\":{\"colorbar\":{\"outlinewidth\":0,\"ticks\":\"\"}}}],\"scatterpolargl\":[{\"type\":\"scatterpolargl\",\"marker\":{\"colorbar\":{\"outlinewidth\":0,\"ticks\":\"\"}}}],\"bar\":[{\"error_x\":{\"color\":\"#2a3f5f\"},\"error_y\":{\"color\":\"#2a3f5f\"},\"marker\":{\"line\":{\"color\":\"#E5ECF6\",\"width\":0.5},\"pattern\":{\"fillmode\":\"overlay\",\"size\":10,\"solidity\":0.2}},\"type\":\"bar\"}],\"scattergeo\":[{\"type\":\"scattergeo\",\"marker\":{\"colorbar\":{\"outlinewidth\":0,\"ticks\":\"\"}}}],\"scatterpolar\":[{\"type\":\"scatterpolar\",\"marker\":{\"colorbar\":{\"outlinewidth\":0,\"ticks\":\"\"}}}],\"histogram\":[{\"marker\":{\"pattern\":{\"fillmode\":\"overlay\",\"size\":10,\"solidity\":0.2}},\"type\":\"histogram\"}],\"scattergl\":[{\"type\":\"scattergl\",\"marker\":{\"colorbar\":{\"outlinewidth\":0,\"ticks\":\"\"}}}],\"scatter3d\":[{\"type\":\"scatter3d\",\"line\":{\"colorbar\":{\"outlinewidth\":0,\"ticks\":\"\"}},\"marker\":{\"colorbar\":{\"outlinewidth\":0,\"ticks\":\"\"}}}],\"scattermapbox\":[{\"type\":\"scattermapbox\",\"marker\":{\"colorbar\":{\"outlinewidth\":0,\"ticks\":\"\"}}}],\"scatterternary\":[{\"type\":\"scatterternary\",\"marker\":{\"colorbar\":{\"outlinewidth\":0,\"ticks\":\"\"}}}],\"scattercarpet\":[{\"type\":\"scattercarpet\",\"marker\":{\"colorbar\":{\"outlinewidth\":0,\"ticks\":\"\"}}}],\"carpet\":[{\"aaxis\":{\"endlinecolor\":\"#2a3f5f\",\"gridcolor\":\"white\",\"linecolor\":\"white\",\"minorgridcolor\":\"white\",\"startlinecolor\":\"#2a3f5f\"},\"baxis\":{\"endlinecolor\":\"#2a3f5f\",\"gridcolor\":\"white\",\"linecolor\":\"white\",\"minorgridcolor\":\"white\",\"startlinecolor\":\"#2a3f5f\"},\"type\":\"carpet\"}],\"table\":[{\"cells\":{\"fill\":{\"color\":\"#EBF0F8\"},\"line\":{\"color\":\"white\"}},\"header\":{\"fill\":{\"color\":\"#C8D4E3\"},\"line\":{\"color\":\"white\"}},\"type\":\"table\"}],\"barpolar\":[{\"marker\":{\"line\":{\"color\":\"#E5ECF6\",\"width\":0.5},\"pattern\":{\"fillmode\":\"overlay\",\"size\":10,\"solidity\":0.2}},\"type\":\"barpolar\"}],\"pie\":[{\"automargin\":true,\"type\":\"pie\"}]},\"layout\":{\"autotypenumbers\":\"strict\",\"colorway\":[\"#636efa\",\"#EF553B\",\"#00cc96\",\"#ab63fa\",\"#FFA15A\",\"#19d3f3\",\"#FF6692\",\"#B6E880\",\"#FF97FF\",\"#FECB52\"],\"font\":{\"color\":\"#2a3f5f\"},\"hovermode\":\"closest\",\"hoverlabel\":{\"align\":\"left\"},\"paper_bgcolor\":\"white\",\"plot_bgcolor\":\"#E5ECF6\",\"polar\":{\"bgcolor\":\"#E5ECF6\",\"angularaxis\":{\"gridcolor\":\"white\",\"linecolor\":\"white\",\"ticks\":\"\"},\"radialaxis\":{\"gridcolor\":\"white\",\"linecolor\":\"white\",\"ticks\":\"\"}},\"ternary\":{\"bgcolor\":\"#E5ECF6\",\"aaxis\":{\"gridcolor\":\"white\",\"linecolor\":\"white\",\"ticks\":\"\"},\"baxis\":{\"gridcolor\":\"white\",\"linecolor\":\"white\",\"ticks\":\"\"},\"caxis\":{\"gridcolor\":\"white\",\"linecolor\":\"white\",\"ticks\":\"\"}},\"coloraxis\":{\"colorbar\":{\"outlinewidth\":0,\"ticks\":\"\"}},\"colorscale\":{\"sequential\":[[0.0,\"#0d0887\"],[0.1111111111111111,\"#46039f\"],[0.2222222222222222,\"#7201a8\"],[0.3333333333333333,\"#9c179e\"],[0.4444444444444444,\"#bd3786\"],[0.5555555555555556,\"#d8576b\"],[0.6666666666666666,\"#ed7953\"],[0.7777777777777778,\"#fb9f3a\"],[0.8888888888888888,\"#fdca26\"],[1.0,\"#f0f921\"]],\"sequentialminus\":[[0.0,\"#0d0887\"],[0.1111111111111111,\"#46039f\"],[0.2222222222222222,\"#7201a8\"],[0.3333333333333333,\"#9c179e\"],[0.4444444444444444,\"#bd3786\"],[0.5555555555555556,\"#d8576b\"],[0.6666666666666666,\"#ed7953\"],[0.7777777777777778,\"#fb9f3a\"],[0.8888888888888888,\"#fdca26\"],[1.0,\"#f0f921\"]],\"diverging\":[[0,\"#8e0152\"],[0.1,\"#c51b7d\"],[0.2,\"#de77ae\"],[0.3,\"#f1b6da\"],[0.4,\"#fde0ef\"],[0.5,\"#f7f7f7\"],[0.6,\"#e6f5d0\"],[0.7,\"#b8e186\"],[0.8,\"#7fbc41\"],[0.9,\"#4d9221\"],[1,\"#276419\"]]},\"xaxis\":{\"gridcolor\":\"white\",\"linecolor\":\"white\",\"ticks\":\"\",\"title\":{\"standoff\":15},\"zerolinecolor\":\"white\",\"automargin\":true,\"zerolinewidth\":2},\"yaxis\":{\"gridcolor\":\"white\",\"linecolor\":\"white\",\"ticks\":\"\",\"title\":{\"standoff\":15},\"zerolinecolor\":\"white\",\"automargin\":true,\"zerolinewidth\":2},\"scene\":{\"xaxis\":{\"backgroundcolor\":\"#E5ECF6\",\"gridcolor\":\"white\",\"linecolor\":\"white\",\"showbackground\":true,\"ticks\":\"\",\"zerolinecolor\":\"white\",\"gridwidth\":2},\"yaxis\":{\"backgroundcolor\":\"#E5ECF6\",\"gridcolor\":\"white\",\"linecolor\":\"white\",\"showbackground\":true,\"ticks\":\"\",\"zerolinecolor\":\"white\",\"gridwidth\":2},\"zaxis\":{\"backgroundcolor\":\"#E5ECF6\",\"gridcolor\":\"white\",\"linecolor\":\"white\",\"showbackground\":true,\"ticks\":\"\",\"zerolinecolor\":\"white\",\"gridwidth\":2}},\"shapedefaults\":{\"line\":{\"color\":\"#2a3f5f\"}},\"annotationdefaults\":{\"arrowcolor\":\"#2a3f5f\",\"arrowhead\":0,\"arrowwidth\":1},\"geo\":{\"bgcolor\":\"white\",\"landcolor\":\"#E5ECF6\",\"subunitcolor\":\"white\",\"showland\":true,\"showlakes\":true,\"lakecolor\":\"white\"},\"title\":{\"x\":0.05},\"mapbox\":{\"style\":\"light\"}}}},                        {\"responsive\": true}                    ).then(function(){\n",
       "                            \n",
       "var gd = document.getElementById('a335aca1-c1ff-4beb-a08e-e771f3cd30cf');\n",
       "var x = new MutationObserver(function (mutations, observer) {{\n",
       "        var display = window.getComputedStyle(gd).display;\n",
       "        if (!display || display === 'none') {{\n",
       "            console.log([gd, 'removed!']);\n",
       "            Plotly.purge(gd);\n",
       "            observer.disconnect();\n",
       "        }}\n",
       "}});\n",
       "\n",
       "// Listen for the removal of the full notebook cells\n",
       "var notebookContainer = gd.closest('#notebook-container');\n",
       "if (notebookContainer) {{\n",
       "    x.observe(notebookContainer, {childList: true});\n",
       "}}\n",
       "\n",
       "// Listen for the clearing of the current output cell\n",
       "var outputEl = gd.closest('.output');\n",
       "if (outputEl) {{\n",
       "    x.observe(outputEl, {childList: true});\n",
       "}}\n",
       "\n",
       "                        })                };                });            </script>        </div>"
      ]
     },
     "metadata": {},
     "output_type": "display_data"
    }
   ],
   "source": [
    "import plotly.graph_objects as go\n",
    "from math import radians, cos, sin, sqrt\n",
    "\n",
    "# Define the latitude and longitude coordinates for the branches\n",
    "branch_locations = [\n",
    "    {\"name\": \"Saylani Welfare Nazimabad Branch\", \"lat\": 24.903623058485977, \"lon\": 67.02632566874261},\n",
    "    {\"name\": \"Saylani Welfare Ghani Chorangi Branch\", \"lat\": 24.90827450285663, \"lon\": 66.98764504416266},\n",
    "    {\"name\": \"Saylani Welfare Garden Branch\", \"lat\": 24.88649488667148, \"lon\": 67.02186247279369},\n",
    "    {\"name\": \"Saylani Welfare Trust old sabzi mandi\", \"lat\": 24.906737016214315, \"lon\": 67.06237455909937},\n",
    "    {\"name\": \"Saylani Jauhar Branch\", \"lat\": 24.914832938532072, \"lon\": 67.12588927068029},\n",
    "    {\"name\": \"Saylani Welfare Head Office.\", \"lat\": 24.88805209138544, \"lon\": 67.0692410144054},\n",
    "    {\"name\": \"Saylani Welfare Gulshan Iqbal Branch\", \"lat\": 24.942853181319283, \"lon\": 67.10014006328261},\n",
    "    {\"name\": \"Saylani Welfare Clifton Branch\", \"lat\": 24.841327413079387, \"lon\": 67.03490873787517},\n",
    "    {\"name\": \"Saylani Welfare North Karachi Branch\", \"lat\": 24.997007578889647, \"lon\": 67.06477781859323},\n",
    "    {\"name\": \"Saylani Welfare FB Area Branch\", \"lat\": 24.935381739822827, \"lon\": 67.09945341788877}\n",
    "]\n",
    "\n",
    "# Calculate the center coordinates of the branch locations\n",
    "center_lat = sum(location[\"lat\"] for location in branch_locations) / len(branch_locations)\n",
    "center_lon = sum(location[\"lon\"] for location in branch_locations) / len(branch_locations)\n",
    "\n",
    "# Calculate the maximum distance from the center to any branch location\n",
    "max_distance = max(\n",
    "    sqrt((location[\"lat\"] - center_lat) ** 2 + (location[\"lon\"] - center_lon) ** 2)\n",
    "    for location in branch_locations\n",
    ")\n",
    "\n",
    "# Calculate the optimal zoom level based on the maximum distance\n",
    "zoom = 10 - (1 / (cos(radians(center_lat)) * 111) * max_distance)  # Adjust the zoom factor as needed\n",
    "\n",
    "# Define a list of colors for each branch\n",
    "colors = [\"rgb(0, 119, 255)\", \"rgb(255, 0, 0)\", \"rgb(0, 255, 0)\", \"rgb(255, 165, 0)\", \"rgb(128, 0, 128)\",\n",
    "          \"rgb(255, 255, 0)\", \"rgb(0, 255, 255)\", \"rgb(255, 0, 255)\", \"rgb(128, 128, 128)\", \"rgb(0, 0, 0)\"]\n",
    "\n",
    "# Create a scattermapbox trace for each branch location with a different color\n",
    "branch_traces = [\n",
    "    go.Scattermapbox(\n",
    "        lat=[location[\"lat\"]],\n",
    "        lon=[location[\"lon\"]],\n",
    "        mode=\"markers\",\n",
    "        marker={\"size\": 10, \"color\": colors[i], \"symbol\": \"circle\"},\n",
    "        text=location[\"name\"],\n",
    "        name=location[\"name\"]\n",
    "    )\n",
    "    for i, location in enumerate(branch_locations)\n",
    "]\n",
    "\n",
    "# Set up the layout for the map\n",
    "layout = go.Layout(\n",
    "    title=\"Saylani Branches\",\n",
    "    autosize=True,\n",
    "    hovermode=\"closest\",\n",
    "    mapbox=dict(\n",
    "        style=\"carto-positron\",\n",
    "        center=dict(lat=center_lat, lon=center_lon),\n",
    "        zoom=zoom,\n",
    "    ),\n",
    "    margin={\"r\": 0, \"t\": 40, \"l\": 0, \"b\": 0},\n",
    "    showlegend=True,\n",
    "    legend=dict(x=0, y=1, bgcolor=\"rgba(255, 255, 255, 0.7)\"),\n",
    ")\n",
    "\n",
    "# Create the figure object and add the traces to it\n",
    "fig = go.Figure(data=branch_traces, layout=layout)\n",
    "\n",
    "# Customize marker size and symbol\n",
    "fig.update_traces(marker=dict(size=12, symbol=\"circle\"))\n",
    "\n",
    "# Customize the title font and size\n",
    "fig.update_layout(\n",
    "    title={\n",
    "        \"text\": \"<b>Saylani Branches</b>\",\n",
    "        \"font\": {\"size\": 24, \"color\": \"rgb(0, 119, 255)\"},\n",
    "        \"x\": 0.5,  # Set the title's x-anchor to the middle of the plot\n",
    "        \"y\": 0.98,  # Adjust the vertical position of the title\n",
    "        \"xref\": \"paper\",\n",
    "        \"yref\": \"paper\",\n",
    "        \"xanchor\": \"center\",\n",
    "        \"yanchor\": \"top\",\n",
    "    }\n",
    ")\n",
    "\n",
    "\n",
    "\n",
    "# Display the map\n",
    "fig.show()\n"
   ]
  },
  {
   "cell_type": "code",
   "execution_count": null,
   "id": "3ad89f22",
   "metadata": {},
   "outputs": [],
   "source": []
  }
 ],
 "metadata": {
  "kernelspec": {
   "display_name": "Python 3 (ipykernel)",
   "language": "python",
   "name": "python3"
  },
  "language_info": {
   "codemirror_mode": {
    "name": "ipython",
    "version": 3
   },
   "file_extension": ".py",
   "mimetype": "text/x-python",
   "name": "python",
   "nbconvert_exporter": "python",
   "pygments_lexer": "ipython3",
   "version": "3.11.3"
  }
 },
 "nbformat": 4,
 "nbformat_minor": 5
}
